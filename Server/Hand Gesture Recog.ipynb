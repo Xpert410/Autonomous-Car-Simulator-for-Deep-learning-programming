{
 "cells": [
  {
   "cell_type": "code",
   "execution_count": 1,
   "id": "artistic-identifier",
   "metadata": {},
   "outputs": [],
   "source": [
    "from jetbot import Robot\n",
    "import time\n",
    "import ipywidgets.widgets as widgets\n",
    "import traitlets\n",
    "from jetbot import Camera\n",
    "from jetbot import bgr8_to_jpeg\n",
    "\n",
    "robot = Robot()"
   ]
  },
  {
   "cell_type": "code",
   "execution_count": 9,
   "id": "inappropriate-prospect",
   "metadata": {},
   "outputs": [
    {
     "data": {
      "application/vnd.jupyter.widget-view+json": {
       "model_id": "fa08eaea9e264d5b8ef13c41b64173c1",
       "version_major": 2,
       "version_minor": 0
      },
      "text/plain": [
       "Image(value=b'\\xff\\xd8\\xff\\xe0\\x00\\x10JFIF\\x00\\x01\\x01\\x00\\x00\\x01\\x00\\x01\\x00\\x00\\xff\\xdb\\x00C\\x00\\x02\\x01\\x0…"
      ]
     },
     "metadata": {},
     "output_type": "display_data"
    }
   ],
   "source": [
    "camera = Camera.instance()\n",
    "image = widgets.Image(format='jpeg', width=400, height=400)\n",
    "camera_link = traitlets.dlink((camera, 'value'), (image, 'value'), transform=bgr8_to_jpeg)\n",
    "display(image)"
   ]
  },
  {
   "cell_type": "code",
   "execution_count": 21,
   "id": "ambient-genealogy",
   "metadata": {},
   "outputs": [],
   "source": [
    "camera.stop()"
   ]
  },
  {
   "cell_type": "code",
   "execution_count": null,
   "id": "relative-ideal",
   "metadata": {},
   "outputs": [
    {
     "name": "stdout",
     "output_type": "stream",
     "text": [
      "Socket successfully created\n",
      "Socket binded to 12345\n",
      "Socket is listening\n",
      "Connected to ('192.168.50.183', 51027)\n"
     ]
    }
   ],
   "source": [
    "import socket\n",
    "global speed_slider\n",
    "\n",
    "s = socket.socket()\n",
    "\n",
    "print(\"Socket successfully created\")\n",
    "\n",
    "port = 12345\n",
    "\n",
    "s.bind(('', port))\n",
    "\n",
    "print(\"Socket binded to %s\" %(port))\n",
    "\n",
    "s.listen(5)\n",
    "print(\"Socket is listening\")\n",
    "c, addr = s.accept()\n",
    "print(f\"Connected to {addr}\")\n",
    "\n",
    "leftcount = 0\n",
    "rightcount = 0\n",
    "\n",
    "try:\n",
    "    with c:\n",
    "        while True:\n",
    "            input = c.recv(1024).decode()\n",
    "            if input == \"Toggle Reverse\":\n",
    "                robot.right(0.5)\n",
    "                time.sleep(1)\n",
    "                robot.stop()\n",
    "            elif input == \"Left\":\n",
    "                rightcount = 0\n",
    "                rightmotor = 0.5 + (0.025 * leftcount)\n",
    "                leftmotor = rightmotor / 2\n",
    "                if leftmotor > 0.3:\n",
    "                    if rightmotor >= 0.85: \n",
    "                        robot.set_motors(0.3, 0.85)\n",
    "                    else:\n",
    "                        robot.set_motors(0.3, rightmotor)\n",
    "                else: \n",
    "                    robot.set_motors(leftmotor, rightmotor)\n",
    "                leftcount += 1\n",
    "            elif input == \"Right\":\n",
    "                leftcount = 0\n",
    "                leftmotor = 0.5 + (0.025 * rightcount)\n",
    "                rightmotor = leftmotor / 2\n",
    "                if rightmotor > 0.3:\n",
    "                    if leftmotor >= 0.85:\n",
    "                        robot.set_motors(0.85, 0.3)\n",
    "                    else:\n",
    "                        robot.set_motors(leftmotor, 0.3)\n",
    "                else:\n",
    "                    robot.set_motors(leftmotor, rightmotor)\n",
    "                rightcount += 1\n",
    "            elif input == \"Throttle\":\n",
    "                leftcount = 0\n",
    "                rightcount = 0\n",
    "                robot.forward(0.5)\n",
    "            elif input == \"Brake\" or \"Full Stop\":\n",
    "                leftcount = 0\n",
    "                rightcount = 0\n",
    "                robot.stop()\n",
    "            if not input:\n",
    "                break\n",
    "except: \n",
    "   print(\"Error occurred when communicating with client\")\n",
    "\n",
    "try:\n",
    "    s.close()\n",
    "    camera.stop()\n",
    "except:\n",
    "    print(\"Error occurred when closing socket/stopping camera\")\n",
    "\n",
    "print(\"Connection closed\")"
   ]
  },
  {
   "cell_type": "code",
   "execution_count": 9,
   "id": "recorded-france",
   "metadata": {},
   "outputs": [],
   "source": [
    "# Stop jetbot\n",
    "robot.stop()"
   ]
  },
  {
   "cell_type": "code",
   "execution_count": 8,
   "id": "proprietary-minnesota",
   "metadata": {},
   "outputs": [],
   "source": [
    "# Test forward\n",
    "robot.forward(0.5)"
   ]
  },
  {
   "cell_type": "code",
   "execution_count": 21,
   "id": "signal-middle",
   "metadata": {},
   "outputs": [],
   "source": [
    "# Test Turn left\n",
    "robot.set_motors(0.4,0.6)"
   ]
  },
  {
   "cell_type": "code",
   "execution_count": 13,
   "id": "cardiac-nancy",
   "metadata": {},
   "outputs": [],
   "source": [
    "# Test Turn around\n",
    "robot.right(0.5)\n",
    "time.sleep(1)\n",
    "robot.stop()"
   ]
  }
 ],
 "metadata": {
  "kernelspec": {
   "display_name": "Python 3",
   "language": "python",
   "name": "python3"
  },
  "language_info": {
   "codemirror_mode": {
    "name": "ipython",
    "version": 3
   },
   "file_extension": ".py",
   "mimetype": "text/x-python",
   "name": "python",
   "nbconvert_exporter": "python",
   "pygments_lexer": "ipython3",
   "version": "3.6.9"
  }
 },
 "nbformat": 4,
 "nbformat_minor": 5
}
